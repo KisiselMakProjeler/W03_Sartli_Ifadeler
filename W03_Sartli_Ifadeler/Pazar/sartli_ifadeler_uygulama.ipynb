{
 "cells": [
  {
   "cell_type": "markdown",
   "metadata": {},
   "source": [
    "### Soru 1"
   ]
  },
  {
   "cell_type": "code",
   "execution_count": 6,
   "metadata": {},
   "outputs": [],
   "source": [
    "def get_Water_bill(numLiters:float):\n",
    "    \"\"\"\n",
    "    HINT:\n",
    "    Tüketilen su miktarına göre maliyet hesaplayan fonksiyon.\n",
    "\n",
    "    Parametre:\n",
    "    numLiters (float): Tüketilen su miktarı.\n",
    "\n",
    "    Return:\n",
    "    Maliyeti döndürür.\n",
    "    \n",
    "    \"\"\"\n",
    "    if numLiters >=30001:\n",
    "        price = 10\n",
    "    elif numLiters >= 22001:\n",
    "        price = 7\n",
    "    elif numLiters >= 8001:\n",
    "        price = 6\n",
    "    else:\n",
    "        price = 5\n",
    "    total_bills = numLiters/1000 * price\n",
    "    return total_bills"
   ]
  },
  {
   "cell_type": "code",
   "execution_count": 7,
   "metadata": {},
   "outputs": [
    {
     "name": "stdout",
     "output_type": "stream",
     "text": [
      "Faturanız 60.0 dolardır.\n"
     ]
    }
   ],
   "source": [
    "fiyat = get_Water_bill(10000)\n",
    "print(f\"Faturanız {fiyat} dolardır.\")"
   ]
  },
  {
   "cell_type": "code",
   "execution_count": 9,
   "metadata": {},
   "outputs": [
    {
     "name": "stdout",
     "output_type": "stream",
     "text": [
      "Faturanız 175.0 dolardır.\n"
     ]
    }
   ],
   "source": [
    "fiyat = get_Water_bill(25000)\n",
    "print(f\"Faturanız {fiyat} dolardır.\")"
   ]
  },
  {
   "cell_type": "markdown",
   "metadata": {},
   "source": [
    "### Soru 2"
   ]
  },
  {
   "cell_type": "markdown",
   "metadata": {},
   "source": [
    "- base fiyat 100 karşılığında 15GB\n",
    "- aşarsa 0.1GB başına 100"
   ]
  },
  {
   "cell_type": "code",
   "execution_count": 12,
   "metadata": {},
   "outputs": [],
   "source": [
    "def get_Phone_bills(internet_kullanimi: float):\n",
    "    \"\"\"\n",
    "    HINT:\n",
    "    Telefon ücretini hesaplayan fonksiyon.\n",
    "\n",
    "    Parametre:\n",
    "    internet_kullanimi (float): İnternet kullanımı miktarı (GB).\n",
    "\n",
    "    Return:\n",
    "    Maliyeti döndürür.\n",
    "    \n",
    "    \"\"\"\n",
    "    if internet_kullanimi <= 15:\n",
    "        internet_fiyat = 100\n",
    "    else:\n",
    "        internet_fiyat = (((internet_kullanimi-15)*10)*100)+100\n",
    "    return internet_fiyat\n",
    "\n",
    "    "
   ]
  },
  {
   "cell_type": "code",
   "execution_count": 13,
   "metadata": {},
   "outputs": [
    {
     "name": "stdout",
     "output_type": "stream",
     "text": [
      "Faturanız 199.99999999999966 dolardır.\n"
     ]
    }
   ],
   "source": [
    "fatura = get_Phone_bills(15.1)\n",
    "print(f\"Faturanız {fatura} dolardır.\")"
   ]
  },
  {
   "cell_type": "code",
   "execution_count": null,
   "metadata": {},
   "outputs": [],
   "source": []
  }
 ],
 "metadata": {
  "kernelspec": {
   "display_name": "sanal_ortam",
   "language": "python",
   "name": "python3"
  },
  "language_info": {
   "codemirror_mode": {
    "name": "ipython",
    "version": 3
   },
   "file_extension": ".py",
   "mimetype": "text/x-python",
   "name": "python",
   "nbconvert_exporter": "python",
   "pygments_lexer": "ipython3",
   "version": "3.12.1"
  }
 },
 "nbformat": 4,
 "nbformat_minor": 2
}
