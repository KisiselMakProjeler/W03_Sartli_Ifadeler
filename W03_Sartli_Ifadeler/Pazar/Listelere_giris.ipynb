{
 "cells": [
  {
   "cell_type": "code",
   "execution_count": 11,
   "metadata": {},
   "outputs": [
    {
     "name": "stdout",
     "output_type": "stream",
     "text": [
      "Requirement already satisfied: numpy in /workspaces/W03_Sartli_Ifadeler/sanal_ortam/lib/python3.12/site-packages (2.2.2)\n",
      "\n",
      "\u001b[1m[\u001b[0m\u001b[34;49mnotice\u001b[0m\u001b[1;39;49m]\u001b[0m\u001b[39;49m A new release of pip is available: \u001b[0m\u001b[31;49m23.2.1\u001b[0m\u001b[39;49m -> \u001b[0m\u001b[32;49m25.0\u001b[0m\n",
      "\u001b[1m[\u001b[0m\u001b[34;49mnotice\u001b[0m\u001b[1;39;49m]\u001b[0m\u001b[39;49m To update, run: \u001b[0m\u001b[32;49mpip install --upgrade pip\u001b[0m\n"
     ]
    }
   ],
   "source": [
    "!pip install numpy\n",
    "from numpy import mean"
   ]
  },
  {
   "cell_type": "code",
   "execution_count": null,
   "metadata": {},
   "outputs": [],
   "source": []
  },
  {
   "cell_type": "markdown",
   "metadata": {},
   "source": [
    "5 yemekli bir menü var. Yemekleri liste kullanarak organize ediniz.\n",
    "-Menu' den fasulye çorbasını kaldırın\n",
    "-Menu' ye Kavrulmuş Çoban Salatasını ekleyiniz.\n",
    "\n",
    "Aşağıda oluşturulmuş menu listesini değştirmeyiniz.\n",
    "- Bu görevlerde .remove() ve .append() , pop() ve .intent() metodlarını kullanabilirsiniz."
   ]
  },
  {
   "cell_type": "code",
   "execution_count": 1,
   "metadata": {},
   "outputs": [],
   "source": [
    "yemeklistesi = [\"yemek1\" , \"yemek2\" , \"yemek3\" , \"yemek4\" , \"Fasulye Çorbası\"]\n",
    "\n",
    "# Fasulye çorbası kaldırılmış hali\n",
    "yemeklistesi.remove(\"Fasulye Çorbası\")\n",
    "\n",
    "# Kavrulmuş Çoban Salatası eklenmiş hali\n",
    "yemeklistesi.append(\"Kavrulmuş Çoban Salatası\")\n",
    "\n",
    "\n",
    "\n"
   ]
  },
  {
   "cell_type": "code",
   "execution_count": 2,
   "metadata": {},
   "outputs": [
    {
     "name": "stdout",
     "output_type": "stream",
     "text": [
      "['yemek1', 'yemek2', 'yemek3', 'yemek4', 'Kavrulmuş Çoban Salatası']\n"
     ]
    }
   ],
   "source": [
    "print(yemeklistesi)"
   ]
  },
  {
   "cell_type": "markdown",
   "metadata": {},
   "source": [
    "numCustomers son 1 ayda restorana her gün kaç kişinin geldiğini gösteren liste.\n",
    "- avgFirstSeven - ilk 7 gün ortalaması\n",
    "- avgLastSeven - son 7 gün ortalaması\n",
    "- maxMounth - aylık en fazla kişi sayısı\n",
    "- minMounth - aylık en az kişi sayısı"
   ]
  },
  {
   "cell_type": "code",
   "execution_count": 3,
   "metadata": {},
   "outputs": [],
   "source": [
    "numCustomers = [137, 147, 135, 128, 170, 174, 165, 146, 126, 159,\n",
    "                 141, 148, 132, 147, 168, 153, 170, 161, 148, 152,\n",
    "                 141, 151, 131, 149, 164, 163, 143, 143, 166, 171]\n",
    "\n"
   ]
  },
  {
   "cell_type": "code",
   "execution_count": 12,
   "metadata": {},
   "outputs": [
    {
     "name": "stdout",
     "output_type": "stream",
     "text": [
      "İlk 7 gün ortalaması: 150.85714285714286\n"
     ]
    }
   ],
   "source": [
    "# İlk 7 gün ortalamsı\n",
    "avgFirstSeven = sum(numCustomers[:7]) / 7\n",
    "print(\"İlk 7 gün ortalaması:\", avgFirstSeven)"
   ]
  },
  {
   "cell_type": "code",
   "execution_count": 14,
   "metadata": {},
   "outputs": [
    {
     "name": "stdout",
     "output_type": "stream",
     "text": [
      "Son 7 gün ortalaması: 157.0\n"
     ]
    }
   ],
   "source": [
    "# Son 7 gün ortalaması\n",
    "avgLastSeven = sum(numCustomers[-7:]) / 7\n",
    "print(\"Son 7 gün ortalaması:\", avgLastSeven)"
   ]
  },
  {
   "cell_type": "code",
   "execution_count": 15,
   "metadata": {},
   "outputs": [
    {
     "name": "stdout",
     "output_type": "stream",
     "text": [
      "Aylık en fazla kişi sayısı: 174\n"
     ]
    }
   ],
   "source": [
    "# Aylık en fazla kişi sayısı\n",
    "maxMounth = max(numCustomers)\n",
    "print(\"Aylık en fazla kişi sayısı:\", maxMounth)"
   ]
  },
  {
   "cell_type": "code",
   "execution_count": 16,
   "metadata": {},
   "outputs": [
    {
     "name": "stdout",
     "output_type": "stream",
     "text": [
      "Aylık en az kişi sayısı: 126\n"
     ]
    }
   ],
   "source": [
    "# Aylık en az kişi sayısı\n",
    "minMounth = min(numCustomers)\n",
    "print(\"Aylık en az kişi sayısı:\", minMounth)"
   ]
  },
  {
   "cell_type": "markdown",
   "metadata": {},
   "source": [
    "persentageGrowth() fonksiyonu iki parametre alacaktır.\n",
    "- numUsers = Bu parametre liste tipinde her yıl websitesini kaç kişinin ziyaret ettiğini gösterir.\n",
    "- yrsAgo = Kaç yıl öncesinin hesaplandığını gösterir.\n",
    "\n"
   ]
  },
  {
   "cell_type": "code",
   "execution_count": 22,
   "metadata": {},
   "outputs": [
    {
     "name": "stdout",
     "output_type": "stream",
     "text": [
      "2 yılından 1 yıl arasında 3.50% artış yaptı.\n",
      "Tarih aralıklarında 7.62% artış yaptı.\n",
      "6 yılından 5 yıl arasında 24.87% artış yaptı.\n",
      "Tarih aralıklarında 7.62% artış yaptı.\n"
     ]
    }
   ],
   "source": [
    "numUsers = [920344, 1043553, 1204334, 1458996, 1503323, 1593432, 1623463, 1843064, 1930992, 2001078]\n",
    "\n",
    "def persentageGrowth(numUsers, yrsAgo):\n",
    "\n",
    "    # Aylık artış oranı hesapla\n",
    "    growthRate = ((numUsers[-1] - numUsers[-(yrsAgo+1)]) / numUsers[-1]) * 100\n",
    "    print(f\"{yrsAgo+1} yılından {yrsAgo} yıl arasında {growthRate:.2f}% artış yaptı.\")\n",
    "\n",
    "    # Yıllık artış oranı hesapla\n",
    "    growthRate = ((numUsers[-1] - numUsers[-2]) / numUsers[0]) * 100\n",
    "    print(f\"Tarih aralıklarında {growthRate:.2f}% artış yaptı.\")\n",
    "\n",
    "persentageGrowth(numUsers, 1)\n",
    "persentageGrowth(numUsers, 5)"
   ]
  },
  {
   "cell_type": "code",
   "execution_count": 23,
   "metadata": {},
   "outputs": [],
   "source": [
    "def persentageGrowth(numUsers:list, yrsAgo:int)->float:\n",
    "    \"\"\"\n",
    "    Bir web sitesinin geçmiş tradiğine göre yüzde kaç büyüdüğünü hesaplayan foksiyon.\n",
    "    numUsers: Geçmiş tradiğine göre web sitesinin ziyaret edilen kişi sayıları.\n",
    "    yrsAgo: Kaç yıl öncesinin hesaplanacağını belirtir.\n",
    "    \n",
    "    \"\"\"\n",
    "    #Aşama 1 - Listenin uzunluğunu bulalım.\n",
    "    listLength:int = len(numUsers)\n",
    "\n",
    "    # Aşama 2 - Son index'ini bulalım.\n",
    "    lastIndex:int = listLength - 1\n",
    "\n",
    "    # Aşama 3 - Son elemanın değerini alalım.\n",
    "    lastValue:int = numUsers[lastIndex]\n",
    "\n",
    "    # Aşama 4 - Yıl öncesinin indexini alalım.\n",
    "    indexYearsAgo:int = listLength - yrsAgo - 1\n",
    "\n",
    "    # Aşama 5 - Belirli yıl öncesinin değerini alalım.\n",
    "    valueYearsAgo:int = numUsers[indexYearsAgo]\n",
    "\n",
    "    # Aşama 6 - Kullanıcı sayıları arasındaki farkı hesaplayalım.\n",
    "    difference:int = lastValue - valueYearsAgo\n",
    "\n",
    "    # Aşama 7 - Büyüme oranını hesaplayalım.\n",
    "    growth:float = difference / valueYearsAgo \n",
    "\n",
    "    # Aşama 8 - Büyüme oranını return edelim.\n",
    "    return growth,valueYearsAgo\n"
   ]
  },
  {
   "cell_type": "code",
   "execution_count": 24,
   "metadata": {},
   "outputs": [
    {
     "name": "stdout",
     "output_type": "stream",
     "text": [
      "Web sitemin 1 sene öncesine göre günümüzdeki büüyümee oranı %0.03629533421163837 kadardır.\n"
     ]
    }
   ],
   "source": [
    "numUsers = [920344, 1043553, 1204334, 1458996, 1503323, 1593432, 1623463, 1843064, 1930992, 2001078]\n",
    "yrsAgo = 1\n",
    "\n",
    "growth, valueYearsAgo = persentageGrowth(numUsers = numUsers, yrsAgo = yrsAgo)\n",
    "print(f\"Web sitemin {yrsAgo} sene öncesine göre günümüzdeki büüyümee oranı %{growth} kadardır.\")"
   ]
  },
  {
   "cell_type": "code",
   "execution_count": null,
   "metadata": {},
   "outputs": [],
   "source": []
  }
 ],
 "metadata": {
  "kernelspec": {
   "display_name": "sanal_ortam",
   "language": "python",
   "name": "python3"
  },
  "language_info": {
   "codemirror_mode": {
    "name": "ipython",
    "version": 3
   },
   "file_extension": ".py",
   "mimetype": "text/x-python",
   "name": "python",
   "nbconvert_exporter": "python",
   "pygments_lexer": "ipython3",
   "version": "3.12.1"
  }
 },
 "nbformat": 4,
 "nbformat_minor": 2
}
