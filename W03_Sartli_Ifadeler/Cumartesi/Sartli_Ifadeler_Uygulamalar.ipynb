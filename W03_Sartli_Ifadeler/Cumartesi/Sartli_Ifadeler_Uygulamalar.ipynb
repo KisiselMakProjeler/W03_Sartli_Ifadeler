{
 "cells": [
  {
   "cell_type": "markdown",
   "metadata": {},
   "source": [
    "### Soru 1\n",
    "\n",
    "Öğrenci notlarını hesaplayalım. Öğrenci notları 0-100 arasındadır ama sizin harf notu girmeniz gerekiyor. \n",
    "\n",
    "- A - any grade 90-100, inclusive\n",
    "- B - any grade 80-89, inclusive\n",
    "- C - any grade 70-79, inclusive\n",
    "- D - any grade 60-69, inclusive\n",
    "- F - any grade below 60\n",
    "\n",
    "İlk çağırmada öğrenci 85 puan alsın B grade atayın --> gerGrade(85) return B\n",
    "İkinci çağırmada öğrenci 49 puan alsın F grade atayın --> gerGrade(49) return F"
   ]
  },
  {
   "cell_type": "code",
   "execution_count": 4,
   "metadata": {},
   "outputs": [],
   "source": [
    "def get_Grade(puan: int):\n",
    "    \"\"\"\n",
    "    HINT:\n",
    "    Bu fonksiyon, bir öğrencinin notunu alarak harf notunu döndürür.\n",
    "\n",
    "    Parametre:\n",
    "    puan (int): 0-100 arasında bir öğrencinin notu.\n",
    "    Return:\n",
    "    Harf notu\n",
    "    \"\"\"\n",
    "    if puan >= 90 and puan <= 100:\n",
    "        note = \"A\"\n",
    "    elif puan >= 80:\n",
    "        note = \"B\"\n",
    "    elif puan >= 70:\n",
    "        note = \"C\"\n",
    "    elif puan >= 60:\n",
    "        note = \"D\"\n",
    "    else:\n",
    "        note = \"F\"\n",
    "    return note\n",
    "    "
   ]
  },
  {
   "cell_type": "code",
   "execution_count": 5,
   "metadata": {},
   "outputs": [
    {
     "name": "stdout",
     "output_type": "stream",
     "text": [
      "İlk öğrencinin harf notu : B\n",
      "İkinci öğrencinin harf notu : F\n"
     ]
    }
   ],
   "source": [
    "ilk_ogrenci = get_Grade(85)\n",
    "ikinci_ogrenci = get_Grade(49)\n",
    "print(f\"İlk öğrencinin harf notu : {ilk_ogrenci}\")\n",
    "print(f\"İkinci öğrencinin harf notu : {ikinci_ogrenci}\")"
   ]
  },
  {
   "cell_type": "markdown",
   "metadata": {},
   "source": [
    "### Soru 2\n",
    "\n",
    "Bir kuyumcunun yüzüklerin hammaddsine ve işlenmesine göre maliyetini hesaplama\n",
    "\n",
    "- Altın kaplama bir yüzüğün temel fiyatı 50 dolardır. Altın kaplamaya işleme için atılan her harf 7 dolardır.\n",
    "- Gerçek altın yüzüğün temel fiyatı 100 dolardır. Gerçek altın yüzüğe işleme için atılan her harf ise 10 dolardır.\n",
    "\n",
    "cost_of_Project() fonksiyonumuzun 2 parametresi vardır:\n",
    "- engraving --> yüzüğün üstüne yazılacak isimdir. (str)\n",
    "- solid_Gold--> Altının gerçek mi yoksa kaplama mı olduğunu gösterir. (True: Gerçek / False: Kaplama)\n"
   ]
  },
  {
   "cell_type": "code",
   "execution_count": 7,
   "metadata": {},
   "outputs": [],
   "source": [
    "def cost_of_project(engraving: str, solid_gold: bool):\n",
    "    \"\"\"\n",
    "    HINT:\n",
    "    Yüzüklerin hammaddesi ve işlenesine göre maliyet hesaplayan fonksiyon.\n",
    "\n",
    "    Parametreler:\n",
    "    engraving (str): Yüzüğün üstüne yazılacak isim.\n",
    "    solid_gold (bool): True ise gerçek altın yüzüğü, False ise kaplama altın yüzüğü.\n",
    "\n",
    "    Return:\n",
    "    Maliyeti döndürür.\n",
    "    \"\"\"\n",
    "    if solid_gold:\n",
    "        toplam_maliyet = (len(engraving)*10)+100\n",
    "    else:\n",
    "        toplam_maliyet = (len(engraving)*7)+50\n",
    "    return toplam_maliyet\n",
    "\n",
    "\n",
    "\n"
   ]
  },
  {
   "cell_type": "code",
   "execution_count": 8,
   "metadata": {},
   "outputs": [
    {
     "name": "stdout",
     "output_type": "stream",
     "text": [
      "Yüzük maliyeti: 150 dolardır.\n"
     ]
    }
   ],
   "source": [
    "yuzuk_fiyat = cost_of_project(\"Yüzük\", True)\n",
    "print(f\"Yüzük maliyeti: {yuzuk_fiyat} dolardır.\")"
   ]
  },
  {
   "cell_type": "markdown",
   "metadata": {},
   "source": [
    "### Soru 3\n",
    "\n",
    "Bir yemeğin kaç kalori olduğunu hesaplayan fonksiyon. 100 gram başına şeker oranına göre kaloriyi hesaplayın.\n",
    "\n",
    "- Eğer şeker oranı 100 gramda 5 gram ise kalorisi 700 kalori olsun.\n",
    "- Eğer şeker oranı 100 gramda 15 gram ise kalorisi 1400 kalori olsun."
   ]
  },
  {
   "cell_type": "code",
   "execution_count": 9,
   "metadata": {},
   "outputs": [],
   "source": [
    "def kalori_hesapla(seker_orani: float):\n",
    "    \"\"\"\n",
    "    HINT:\n",
    "    Şeker oranına göre yemek kalori hesaplayan fonksiyon.\n",
    "\n",
    "    Parametre:\n",
    "    seker_orani (float): 100 gram başına şeker oranı.\n",
    "\n",
    "    Return:\n",
    "    Kaloriyi döndürür.\n",
    "    \"\"\"\n",
    "    if seker_orani == 5:\n",
    "        kalori = 700\n",
    "    else:\n",
    "        kalori = 1400\n",
    "    return kalori"
   ]
  },
  {
   "cell_type": "code",
   "execution_count": 10,
   "metadata": {},
   "outputs": [
    {
     "name": "stdout",
     "output_type": "stream",
     "text": [
      "Yemekteki kalori: 1400 kaloridir.\n"
     ]
    }
   ],
   "source": [
    "total_kalori = kalori_hesapla(15)\n",
    "print(f\"Yemekteki kalori: {total_kalori} kaloridir.\")"
   ]
  },
  {
   "cell_type": "code",
   "execution_count": null,
   "metadata": {},
   "outputs": [],
   "source": []
  }
 ],
 "metadata": {
  "kernelspec": {
   "display_name": "sanal_ortam",
   "language": "python",
   "name": "python3"
  },
  "language_info": {
   "codemirror_mode": {
    "name": "ipython",
    "version": 3
   },
   "file_extension": ".py",
   "mimetype": "text/x-python",
   "name": "python",
   "nbconvert_exporter": "python",
   "pygments_lexer": "ipython3",
   "version": "3.12.1"
  }
 },
 "nbformat": 4,
 "nbformat_minor": 2
}
