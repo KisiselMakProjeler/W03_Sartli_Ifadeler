{
 "cells": [
  {
   "cell_type": "markdown",
   "metadata": {},
   "source": [
    "### Hesaplama Örneği\n",
    "\n",
    "Ülkede yaşayanların yıllık kazancı 12000 dolardan az ise %25 vergi kesilsin ve vergiyi hesaplasın. 12000 dolar ya da fazla ise %30 vergi kesilsin ve hesaplansın. "
   ]
  },
  {
   "cell_type": "code",
   "execution_count": 1,
   "metadata": {},
   "outputs": [],
   "source": [
    "def vergi_hesapla(kazanc:float):\n",
    "    \"\"\"\n",
    "    Vergi hesaplayan fonksiyon.\n",
    "    \n",
    "    Parametre:\n",
    "        kazanc (float): Yıllık kazancın dolar cinsinden değer.\n",
    "    \"\"\"\n",
    "\n",
    "    if kazanc < 12000:\n",
    "        vergi = kazanc * 0.25\n",
    "    else:\n",
    "        vergi = kazanc * 0.30\n",
    "\n",
    "    return vergi\n",
    "    "
   ]
  },
  {
   "cell_type": "code",
   "execution_count": null,
   "metadata": {},
   "outputs": [
    {
     "name": "stdout",
     "output_type": "stream",
     "text": [
      "Yıllık verginiz 3750.000 dolardır.\n"
     ]
    }
   ],
   "source": [
    "kazanc = float(input(\"Yıllık kazancınızı girin (dollar cinsinden): \"))\n",
    "vergi = vergi_hesapla(kazanc)\n",
    "print(f\"Yıllık verginiz {vergi:.1f} dolardır.\")"
   ]
  },
  {
   "cell_type": "markdown",
   "metadata": {},
   "source": [
    "### Örnek 2\n",
    "\n",
    "Bir ilacın ağılığına göre kaç miligram doz ilaç verilmesi gerekiyor bunu hesaplayan fonksiyonu yazın."
   ]
  },
  {
   "cell_type": "code",
   "execution_count": 4,
   "metadata": {},
   "outputs": [],
   "source": [
    "def get_dose(weight: float):\n",
    "    \"\"\"\n",
    "    Bir ilacın ağırlığına göre gram başına kaç mg doz ilaç verilmesi gerektiğini hesaplayan fonksiyon.\n",
    "\n",
    "    Parametre:\n",
    "    weight (float): İlaç ağırlığı (kg).\n",
    "    \n",
    "    Return:\n",
    "    verilecek doz = miligram\n",
    "    \"\"\"\n",
    "    if (weight < 5.2):\n",
    "        dose = 1.25\n",
    "    elif (weight < 7.9):\n",
    "        dose = 2.5\n",
    "    elif (weight < 10.4):\n",
    "        dose = 3.75\n",
    "    elif (weight < 15.9):\n",
    "        dose = 5.0\n",
    "    elif (weight < 21.2):\n",
    "        dose = 7.5\n",
    "    else:\n",
    "        dose = 10.0\n",
    "\n",
    "    return dose"
   ]
  },
  {
   "cell_type": "code",
   "execution_count": 5,
   "metadata": {},
   "outputs": [
    {
     "name": "stdout",
     "output_type": "stream",
     "text": [
      "Birinci çocuğun alması gereken doz miktarı 5.0 mg'dır.\n"
     ]
    }
   ],
   "source": [
    "child1 =get_dose(12.0)\n",
    "print(f\"Birinci çocuğun alması gereken doz miktarı {child1:.1f} mg'dır.\")"
   ]
  },
  {
   "cell_type": "code",
   "execution_count": null,
   "metadata": {},
   "outputs": [],
   "source": []
  }
 ],
 "metadata": {
  "kernelspec": {
   "display_name": "sanal_ortam",
   "language": "python",
   "name": "python3"
  },
  "language_info": {
   "codemirror_mode": {
    "name": "ipython",
    "version": 3
   },
   "file_extension": ".py",
   "mimetype": "text/x-python",
   "name": "python",
   "nbconvert_exporter": "python",
   "pygments_lexer": "ipython3",
   "version": "3.12.1"
  }
 },
 "nbformat": 4,
 "nbformat_minor": 2
}
